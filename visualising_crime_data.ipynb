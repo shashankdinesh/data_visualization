{
 "cells": [
  {
   "cell_type": "code",
   "execution_count": 1,
   "metadata": {},
   "outputs": [],
   "source": [
    "import os\n",
    "from glob import glob\n",
    "from pathlib import Path\n",
    "import pandas as pd"
   ]
  },
  {
   "cell_type": "code",
   "execution_count": 2,
   "metadata": {},
   "outputs": [],
   "source": [
    "d = \"/home/shashank/workspace/datascience/assignment/datavisualization/data_set\""
   ]
  },
  {
   "cell_type": "code",
   "execution_count": 3,
   "metadata": {},
   "outputs": [],
   "source": [
    "folders = [os.path.join(d, o) for o in os.listdir(d) if os.path.isdir(os.path.join(d,o))]"
   ]
  },
  {
   "cell_type": "code",
   "execution_count": 4,
   "metadata": {},
   "outputs": [],
   "source": [
    "fileslist = []\n",
    "for i in folders:\n",
    "    os.chdir(i)\n",
    "    for j in glob(\"*.csv\"):\n",
    "        fileslist.append(os.path.join(i,j))"
   ]
  },
  {
   "cell_type": "code",
   "execution_count": 5,
   "metadata": {},
   "outputs": [],
   "source": [
    "dataframe = pd.read_csv(fileslist[0])\n",
    "for i in range(len(fileslist)-1):\n",
    "    dataframe = pd.concat([dataframe,pd.read_csv(fileslist[i+1])],ignore_index=True) # This is for resetting index"
   ]
  },
  {
   "cell_type": "code",
   "execution_count": 3,
   "metadata": {},
   "outputs": [],
   "source": [
    "dataframe = pd.read_csv(os.path.join(d,\"result.csv\"))"
   ]
  },
  {
   "cell_type": "code",
   "execution_count": 4,
   "metadata": {},
   "outputs": [],
   "source": [
    "df=dataframe.copy(deep=True)"
   ]
  },
  {
   "cell_type": "code",
   "execution_count": 5,
   "metadata": {},
   "outputs": [
    {
     "data": {
      "text/plain": [
       "Unnamed: 0               False\n",
       "Crime ID                  True\n",
       "Month                    False\n",
       "Reported by              False\n",
       "Falls within             False\n",
       "Longitude                 True\n",
       "Latitude                  True\n",
       "Location                 False\n",
       "LSOA code                 True\n",
       "LSOA name                 True\n",
       "Crime type               False\n",
       "Last outcome category     True\n",
       "Context                   True\n",
       "dtype: bool"
      ]
     },
     "execution_count": 5,
     "metadata": {},
     "output_type": "execute_result"
    }
   ],
   "source": [
    "dataframe.isnull().any()"
   ]
  },
  {
   "cell_type": "code",
   "execution_count": 6,
   "metadata": {},
   "outputs": [
    {
     "data": {
      "text/plain": [
       "Unnamed: 0                     0\n",
       "Crime ID                  866043\n",
       "Month                          0\n",
       "Reported by                    0\n",
       "Falls within                   0\n",
       "Longitude                  96500\n",
       "Latitude                   96500\n",
       "Location                       0\n",
       "LSOA code                  96525\n",
       "LSOA name                  96525\n",
       "Crime type                     0\n",
       "Last outcome category     866043\n",
       "Context                  4229783\n",
       "dtype: int64"
      ]
     },
     "execution_count": 6,
     "metadata": {},
     "output_type": "execute_result"
    }
   ],
   "source": [
    "dataframe.isnull().sum()"
   ]
  },
  {
   "cell_type": "code",
   "execution_count": 7,
   "metadata": {},
   "outputs": [],
   "source": [
    "dataframe.drop('Crime ID',axis=1, inplace=True) # Crime ID  has 866043 null rows\n",
    "dataframe.drop('Context',axis=1, inplace=True) # Context has 4229783 null rows\n",
    "dataframe.drop('Last outcome category',axis=1, inplace=True) #Last outcome category has 866043 null rows\n",
    "dataframe.drop('Unnamed: 0',axis=1, inplace=True) #Last outcome category has 866043 null rows"
   ]
  },
  {
   "cell_type": "code",
   "execution_count": 8,
   "metadata": {},
   "outputs": [
    {
     "name": "stdout",
     "output_type": "stream",
     "text": [
      "<class 'pandas.core.frame.DataFrame'>\n",
      "RangeIndex: 4229783 entries, 0 to 4229782\n",
      "Data columns (total 9 columns):\n",
      " #   Column        Dtype  \n",
      "---  ------        -----  \n",
      " 0   Month         object \n",
      " 1   Reported by   object \n",
      " 2   Falls within  object \n",
      " 3   Longitude     float64\n",
      " 4   Latitude      float64\n",
      " 5   Location      object \n",
      " 6   LSOA code     object \n",
      " 7   LSOA name     object \n",
      " 8   Crime type    object \n",
      "dtypes: float64(2), object(7)\n",
      "memory usage: 290.4+ MB\n"
     ]
    }
   ],
   "source": [
    "dataframe.info()"
   ]
  },
  {
   "cell_type": "code",
   "execution_count": 9,
   "metadata": {},
   "outputs": [],
   "source": [
    "df_group = dataframe[(dataframe['Latitude'].notna())&(dataframe['Longitude'].notna())].groupby('Falls within')"
   ]
  },
  {
   "cell_type": "code",
   "execution_count": 10,
   "metadata": {},
   "outputs": [],
   "source": [
    "lonmean =  dataframe[(dataframe['Latitude'].notna())&(dataframe['Longitude'].notna())].groupby('Falls within')['Longitude'].mean()\n",
    "    "
   ]
  },
  {
   "cell_type": "code",
   "execution_count": 11,
   "metadata": {},
   "outputs": [],
   "source": [
    "latmean = dataframe[(dataframe['Latitude'].notna())&(dataframe['Longitude'].notna())].groupby('Falls within')['Latitude'].mean()"
   ]
  },
  {
   "cell_type": "code",
   "execution_count": 12,
   "metadata": {},
   "outputs": [
    {
     "name": "stdout",
     "output_type": "stream",
     "text": [
      "0.55323639570259 51.688989631426004\n"
     ]
    }
   ],
   "source": [
    "print(lonmean['Essex Police'],latmean['Essex Police'])"
   ]
  },
  {
   "cell_type": "markdown",
   "metadata": {},
   "source": [
    "# fillna + groupby + transform + mean\n",
    "This seems intuitive:\n",
    "\n",
    "# df['value'] = df['value'].fillna(df.groupby('name')['value'].transform('mean'))\n",
    "The groupby + transform syntax maps the groupwise mean to the index of the original dataframe."
   ]
  },
  {
   "cell_type": "code",
   "execution_count": 13,
   "metadata": {},
   "outputs": [],
   "source": [
    "dataframe['Latitude'] = dataframe['Latitude'].fillna(dataframe.groupby('Falls within')['Latitude'].transform('mean'))\n",
    "dataframe['Longitude'] = dataframe['Longitude'].fillna(dataframe.groupby('Falls within')['Longitude'].transform('mean'))"
   ]
  },
  {
   "cell_type": "code",
   "execution_count": 14,
   "metadata": {},
   "outputs": [
    {
     "data": {
      "text/html": [
       "<div>\n",
       "<style scoped>\n",
       "    .dataframe tbody tr th:only-of-type {\n",
       "        vertical-align: middle;\n",
       "    }\n",
       "\n",
       "    .dataframe tbody tr th {\n",
       "        vertical-align: top;\n",
       "    }\n",
       "\n",
       "    .dataframe thead th {\n",
       "        text-align: right;\n",
       "    }\n",
       "</style>\n",
       "<table border=\"1\" class=\"dataframe\">\n",
       "  <thead>\n",
       "    <tr style=\"text-align: right;\">\n",
       "      <th></th>\n",
       "      <th>Month</th>\n",
       "      <th>Reported by</th>\n",
       "      <th>Longitude</th>\n",
       "      <th>Latitude</th>\n",
       "      <th>Location</th>\n",
       "      <th>LSOA code</th>\n",
       "      <th>LSOA name</th>\n",
       "      <th>Crime type</th>\n",
       "    </tr>\n",
       "    <tr>\n",
       "      <th>Falls within</th>\n",
       "      <th></th>\n",
       "      <th></th>\n",
       "      <th></th>\n",
       "      <th></th>\n",
       "      <th></th>\n",
       "      <th></th>\n",
       "      <th></th>\n",
       "      <th></th>\n",
       "    </tr>\n",
       "  </thead>\n",
       "  <tbody>\n",
       "  </tbody>\n",
       "</table>\n",
       "</div>"
      ],
      "text/plain": [
       "Empty DataFrame\n",
       "Columns: [Month, Reported by, Longitude, Latitude, Location, LSOA code, LSOA name, Crime type]\n",
       "Index: []"
      ]
     },
     "execution_count": 14,
     "metadata": {},
     "output_type": "execute_result"
    }
   ],
   "source": [
    "dataframe[(dataframe['Latitude'].isnull())&(dataframe['Longitude'].isnull())].groupby('Falls within').count()"
   ]
  },
  {
   "cell_type": "markdown",
   "metadata": {},
   "source": [
    "# Visualising Data\n"
   ]
  },
  {
   "cell_type": "code",
   "execution_count": 15,
   "metadata": {},
   "outputs": [],
   "source": [
    "import seaborn as sns\n"
   ]
  },
  {
   "cell_type": "code",
   "execution_count": 17,
   "metadata": {},
   "outputs": [
    {
     "data": {
      "image/png": "[encoded data removed]",
      "text/plain": [
       "<Figure size 432x432 with 3 Axes>"
      ]
     },
     "metadata": {
      "needs_background": "light"
     },
     "output_type": "display_data"
    }
   ],
   "source": [
    "sns.jointplot(x=dataframe.sample(100000)['Latitude'], y=dataframe.sample(100000)['Longitude'], data=dataframe, kind=\"kde\");"
   ]
  },
  {
   "cell_type": "code",
   "execution_count": null,
   "metadata": {},
   "outputs": [],
   "source": []
  }
 ],
 "metadata": {
  "kernelspec": {
   "display_name": "Python 3",
   "language": "python",
   "name": "python3"
  },
  "language_info": {
   "codemirror_mode": {
    "name": "ipython",
    "version": 3
   },
   "file_extension": ".py",
   "mimetype": "text/x-python",
   "name": "python",
   "nbconvert_exporter": "python",
   "pygments_lexer": "ipython3",
   "version": "3.6.9"
  }
 },
 "nbformat": 4,
 "nbformat_minor": 4
}
